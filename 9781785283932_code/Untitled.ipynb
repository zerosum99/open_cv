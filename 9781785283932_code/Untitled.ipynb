{
 "cells": [
  {
   "cell_type": "code",
   "execution_count": null,
   "metadata": {},
   "outputs": [],
   "source": [
    "# %load \"./Chapter 1/read_display_save.py\"\n",
    "import cv2\n",
    "\n",
    "img = cv2.imread('.././img/girl.jpg')\n",
    "cv2.imshow('Input image', img)\n",
    "\n",
    "# Load the image in grayscale mode\n",
    "gray_img = cv2.imread('.././img/girl.jpg', cv2.IMREAD_GRAYSCALE)\n",
    "cv2.imshow('Grayscale', gray_img)\n",
    "\n",
    "# Saving an image\n",
    "#cv2.imwrite('../images/output.jpg', gray_img)\n",
    "cv2.waitKey()\n"
   ]
  },
  {
   "cell_type": "code",
   "execution_count": null,
   "metadata": {},
   "outputs": [],
   "source": [
    "import cv2\n",
    "\n",
    "img = cv2.imread('.././img/girl.jpg')\n",
    "\n",
    "\n",
    "cv2.imshow('Input image', img)\n",
    "\n",
    "cv2.waitKey(0)"
   ]
  },
  {
   "cell_type": "code",
   "execution_count": 2,
   "metadata": {},
   "outputs": [
    {
     "name": "stdout",
     "output_type": "stream",
     "text": [
      "Help on built-in function namedWindow:\n",
      "\n",
      "namedWindow(...)\n",
      "    namedWindow(winname[, flags]) -> None\n",
      "    .   @brief Creates a window.\n",
      "    .   \n",
      "    .   The function namedWindow creates a window that can be used as a placeholder for images and\n",
      "    .   trackbars. Created windows are referred to by their names.\n",
      "    .   \n",
      "    .   If a window with the same name already exists, the function does nothing.\n",
      "    .   \n",
      "    .   You can call cv::destroyWindow or cv::destroyAllWindows to close the window and de-allocate any associated\n",
      "    .   memory usage. For a simple program, you do not really have to call these functions because all the\n",
      "    .   resources and windows of the application are closed automatically by the operating system upon exit.\n",
      "    .   \n",
      "    .   @note\n",
      "    .   \n",
      "    .   Qt backend supports additional flags:\n",
      "    .   -   **WINDOW_NORMAL or WINDOW_AUTOSIZE:** WINDOW_NORMAL enables you to resize the\n",
      "    .   window, whereas WINDOW_AUTOSIZE adjusts automatically the window size to fit the\n",
      "    .   displayed image (see imshow ), and you cannot change the window size manually.\n",
      "    .   -   **WINDOW_FREERATIO or WINDOW_KEEPRATIO:** WINDOW_FREERATIO adjusts the image\n",
      "    .   with no respect to its ratio, whereas WINDOW_KEEPRATIO keeps the image ratio.\n",
      "    .   -   **WINDOW_GUI_NORMAL or WINDOW_GUI_EXPANDED:** WINDOW_GUI_NORMAL is the old way to draw the window\n",
      "    .   without statusbar and toolbar, whereas WINDOW_GUI_EXPANDED is a new enhanced GUI.\n",
      "    .   By default, flags == WINDOW_AUTOSIZE | WINDOW_KEEPRATIO | WINDOW_GUI_EXPANDED\n",
      "    .   \n",
      "    .   @param winname Name of the window in the window caption that may be used as a window identifier.\n",
      "    .   @param flags Flags of the window. The supported flags are: (cv::WindowFlags)\n",
      "\n"
     ]
    }
   ],
   "source": [
    "help(cv2.namedWindow)"
   ]
  },
  {
   "cell_type": "code",
   "execution_count": null,
   "metadata": {},
   "outputs": [],
   "source": []
  }
 ],
 "metadata": {
  "kernelspec": {
   "display_name": "Python 3",
   "language": "python",
   "name": "python3"
  },
  "language_info": {
   "codemirror_mode": {
    "name": "ipython",
    "version": 3
   },
   "file_extension": ".py",
   "mimetype": "text/x-python",
   "name": "python",
   "nbconvert_exporter": "python",
   "pygments_lexer": "ipython3",
   "version": "3.7.3"
  }
 },
 "nbformat": 4,
 "nbformat_minor": 2
}
