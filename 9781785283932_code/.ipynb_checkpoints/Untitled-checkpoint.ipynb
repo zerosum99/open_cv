{
 "cells": [
  {
   "cell_type": "code",
   "execution_count": null,
   "metadata": {},
   "outputs": [],
   "source": [
    "# %load \"./Chapter 1/read_display_save.py\"\n",
    "import cv2\n",
    "\n",
    "img = cv2.imread('.././img/girl.jpg')\n",
    "cv2.imshow('Input image', img)\n",
    "\n",
    "# Load the image in grayscale mode\n",
    "gray_img = cv2.imread('.././img/girl.jpg', cv2.IMREAD_GRAYSCALE)\n",
    "cv2.imshow('Grayscale', gray_img)\n",
    "\n",
    "# Saving an image\n",
    "#cv2.imwrite('../images/output.jpg', gray_img)\n",
    "cv2.waitKey()\n"
   ]
  },
  {
   "cell_type": "code",
   "execution_count": 2,
   "metadata": {},
   "outputs": [
    {
     "data": {
      "text/plain": [
       "-1"
      ]
     },
     "execution_count": 2,
     "metadata": {},
     "output_type": "execute_result"
    }
   ],
   "source": [
    "import cv2\n",
    "\n",
    "img = cv2.imread('.././img/girl.jpg')\n",
    "\n",
    "cv2.namedWindow(\"Keyboard event\", WINDOW_AUTOSIZE);\n",
    "\n",
    "cv2.imshow('Input image', img)\n",
    "\n",
    "cv2.waitKey()"
   ]
  },
  {
   "cell_type": "code",
   "execution_count": 2,
   "metadata": {},
   "outputs": [
    {
     "data": {
      "text/plain": [
       "array([[[ 52,  71,  76],\n",
       "        [ 47,  68,  70],\n",
       "        [ 39,  69,  64],\n",
       "        ...,\n",
       "        [ 24,  72,  54],\n",
       "        [ 31,  76,  59],\n",
       "        [ 35,  80,  63]],\n",
       "\n",
       "       [[ 51,  70,  75],\n",
       "        [ 47,  68,  70],\n",
       "        [ 39,  69,  64],\n",
       "        ...,\n",
       "        [ 26,  74,  56],\n",
       "        [ 32,  77,  60],\n",
       "        [ 35,  80,  63]],\n",
       "\n",
       "       [[ 51,  70,  73],\n",
       "        [ 46,  67,  68],\n",
       "        [ 39,  69,  64],\n",
       "        ...,\n",
       "        [ 28,  77,  57],\n",
       "        [ 33,  78,  61],\n",
       "        [ 35,  80,  63]],\n",
       "\n",
       "       ...,\n",
       "\n",
       "       [[ 29,  95,  66],\n",
       "        [ 38, 104,  75],\n",
       "        [ 47, 115,  84],\n",
       "        ...,\n",
       "        [218, 190, 203],\n",
       "        [221, 191, 202],\n",
       "        [222, 192, 203]],\n",
       "\n",
       "       [[ 28,  94,  65],\n",
       "        [ 37, 104,  75],\n",
       "        [ 47, 117,  86],\n",
       "        ...,\n",
       "        [218, 190, 203],\n",
       "        [222, 192, 203],\n",
       "        [224, 194, 205]],\n",
       "\n",
       "       [[ 25,  92,  63],\n",
       "        [ 36, 103,  74],\n",
       "        [ 46, 116,  85],\n",
       "        ...,\n",
       "        [223, 193, 206],\n",
       "        [226, 196, 207],\n",
       "        [229, 199, 210]]], dtype=uint8)"
      ]
     },
     "execution_count": 2,
     "metadata": {},
     "output_type": "execute_result"
    }
   ],
   "source": [
    "img"
   ]
  },
  {
   "cell_type": "code",
   "execution_count": null,
   "metadata": {},
   "outputs": [],
   "source": []
  }
 ],
 "metadata": {
  "kernelspec": {
   "display_name": "Python 3",
   "language": "python",
   "name": "python3"
  },
  "language_info": {
   "codemirror_mode": {
    "name": "ipython",
    "version": 3
   },
   "file_extension": ".py",
   "mimetype": "text/x-python",
   "name": "python",
   "nbconvert_exporter": "python",
   "pygments_lexer": "ipython3",
   "version": "3.7.3"
  }
 },
 "nbformat": 4,
 "nbformat_minor": 2
}
